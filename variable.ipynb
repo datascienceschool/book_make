{
 "cells": [
  {
   "cell_type": "markdown",
   "id": "8a1ea11d",
   "metadata": {},
   "source": [
    "# 변수"
   ]
  },
  {
   "cell_type": "markdown",
   "id": "f2f39ed3",
   "metadata": {},
   "source": [
    "- **변수**(variable)는 문자열을 대표하는 이름\n",
    "- 변수의 **값**(value): 변수가 대표하는 문자열\n",
    "- 변수의 **할당**(assignment): 변수의 값을 지정하는 것\n",
    "- 변수의 **참조**(reference): 변수의 값을 사용하는 것\n",
    "- 변수의 **확장**(expansion): 참조된 변수가 문자열 값으로 변하는 것"
   ]
  },
  {
   "cell_type": "markdown",
   "id": "6eede4da",
   "metadata": {},
   "source": [
    "다음과 같은 메이크파일이 확장되면 \n",
    "```Makefile\n",
    "var = text        # 변수가 할당되는 코드\n",
    "\n",
    "all:\n",
    "  echo ${var}     # 변수가 참조되는 코드\n",
    "```\n",
    "\n",
    "다음과 같아진다.\n",
    "```Makefile\n",
    "all:\n",
    "  echo text       \n",
    "```"
   ]
  },
  {
   "cell_type": "markdown",
   "id": "3e47708a",
   "metadata": {},
   "source": [
    "#### 공백 처리"
   ]
  },
  {
   "cell_type": "markdown",
   "id": "d83b8e0c",
   "metadata": {},
   "source": [
    "```Makefile\n",
    "# sample/variable.001/Makefile\n",
    "\n",
    "{{< include sample/variable.001/Makefile >}}\n",
    "```"
   ]
  },
  {
   "cell_type": "code",
   "execution_count": 21,
   "id": "42ac1d9a",
   "metadata": {},
   "outputs": [
    {
     "name": "stdout",
     "output_type": "stream",
     "text": [
      "echo \\\"text\\\"\n",
      "\"text\"\n",
      "echo \\\"text\\\"\n",
      "\"text\"\n",
      "echo \\\"text\\\"\n",
      "\"text\"\n",
      "echo \\\"long long text\\\"\n",
      "\"long long text\"\n",
      "echo \\\"long     long text\\\"\n",
      "\"long long text\"\n"
     ]
    }
   ],
   "source": [
    "# | echo: false\n",
    "! make -C sample/variable.001"
   ]
  },
  {
   "cell_type": "markdown",
   "id": "3587eace",
   "metadata": {},
   "source": [
    "## 변수 확장"
   ]
  },
  {
   "cell_type": "markdown",
   "id": "2f0c183d",
   "metadata": {},
   "source": [
    "- 참조된 변수가 어떤 값으로 확장되는가는 다음 규칙에 의해 결정된다."
   ]
  },
  {
   "cell_type": "markdown",
   "id": "d2f28d82",
   "metadata": {},
   "source": [
    "### 확장 규칙 1\n",
    "- 변수의 값은 해당 변수가 확장되는 시점 기준으로 가장 최근에 할당된 값"
   ]
  },
  {
   "cell_type": "markdown",
   "id": "dd93ecb4",
   "metadata": {},
   "source": [
    "### 확장 규칙 2"
   ]
  },
  {
   "cell_type": "markdown",
   "id": "a48e4a4d",
   "metadata": {},
   "source": [
    "- 변수는 다음 예외를 제외하고 처음 make 도구가 makefile을 읽는 시점에 확장된다.\n",
    "  1. 레시피 내부\n",
    "  2. `=` 할당 기호의 오른쪽\n",
    "  3. `define` 지시어를 이용한 변수 정의 "
   ]
  },
  {
   "cell_type": "markdown",
   "id": "3a35eff2",
   "metadata": {},
   "source": []
  },
  {
   "cell_type": "markdown",
   "id": "c6bd9b44",
   "metadata": {},
   "source": []
  }
 ],
 "metadata": {
  "kernelspec": {
   "display_name": "base",
   "language": "python",
   "name": "python3"
  },
  "language_info": {
   "codemirror_mode": {
    "name": "ipython",
    "version": 3
   },
   "file_extension": ".py",
   "mimetype": "text/x-python",
   "name": "python",
   "nbconvert_exporter": "python",
   "pygments_lexer": "ipython3",
   "version": "3.12.8"
  }
 },
 "nbformat": 4,
 "nbformat_minor": 5
}
