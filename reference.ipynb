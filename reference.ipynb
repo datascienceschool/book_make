{
 "cells": [
  {
   "cell_type": "markdown",
   "id": "a00596aa",
   "metadata": {},
   "source": [
    "# 참고문헌"
   ]
  },
  {
   "cell_type": "raw",
   "id": "be5021ef",
   "metadata": {
    "vscode": {
     "languageId": "raw"
    }
   },
   "source": [
    "---\n",
    "nocite: |\n",
    "  @makeman\n",
    "---"
   ]
  },
  {
   "cell_type": "markdown",
   "id": "07c0b1ba",
   "metadata": {},
   "source": [
    "::: {#refs}\n",
    ":::"
   ]
  }
 ],
 "metadata": {
  "kernelspec": {
   "display_name": "base",
   "language": "python",
   "name": "python3"
  },
  "language_info": {
   "codemirror_mode": {
    "name": "ipython",
    "version": 3
   },
   "file_extension": ".py",
   "mimetype": "text/x-python",
   "name": "python",
   "nbconvert_exporter": "python",
   "pygments_lexer": "ipython3",
   "version": "3.12.8"
  }
 },
 "nbformat": 4,
 "nbformat_minor": 5
}
